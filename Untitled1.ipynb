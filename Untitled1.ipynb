{
  "nbformat": 4,
  "nbformat_minor": 0,
  "metadata": {
    "colab": {
      "provenance": [],
      "authorship_tag": "ABX9TyO0cxedTPCa9V34/xbuSRxE",
      "include_colab_link": true
    },
    "kernelspec": {
      "name": "python3",
      "display_name": "Python 3"
    },
    "language_info": {
      "name": "python"
    },
    "accelerator": "GPU",
    "gpuClass": "standard"
  },
  "cells": [
    {
      "cell_type": "markdown",
      "metadata": {
        "id": "view-in-github",
        "colab_type": "text"
      },
      "source": [
        "<a href=\"https://colab.research.google.com/github/azb4/LB_1/blob/master/Untitled1.ipynb\" target=\"_parent\"><img src=\"https://colab.research.google.com/assets/colab-badge.svg\" alt=\"Open In Colab\"/></a>"
      ]
    },
    {
      "cell_type": "code",
      "source": [
        "!pip3 install face-recognition"
      ],
      "metadata": {
        "colab": {
          "base_uri": "https://localhost:8080/"
        },
        "id": "MIak83V4nTZ0",
        "outputId": "e9172fe3-3c24-42c2-a141-b18988957ed1"
      },
      "execution_count": null,
      "outputs": [
        {
          "output_type": "stream",
          "name": "stdout",
          "text": [
            "Looking in indexes: https://pypi.org/simple, https://us-python.pkg.dev/colab-wheels/public/simple/\n",
            "Collecting face-recognition\n",
            "  Downloading face_recognition-1.3.0-py2.py3-none-any.whl (15 kB)\n",
            "Requirement already satisfied: Pillow in /usr/local/lib/python3.8/dist-packages (from face-recognition) (7.1.2)\n",
            "Requirement already satisfied: dlib>=19.7 in /usr/local/lib/python3.8/dist-packages (from face-recognition) (19.24.0)\n",
            "Collecting face-recognition-models>=0.3.0\n",
            "  Downloading face_recognition_models-0.3.0.tar.gz (100.1 MB)\n",
            "\u001b[2K     \u001b[90m━━━━━━━━━━━━━━━━━━━━━━━━━━━━━━━━━━━━━━\u001b[0m \u001b[32m100.1/100.1 MB\u001b[0m \u001b[31m10.8 MB/s\u001b[0m eta \u001b[36m0:00:00\u001b[0m\n",
            "\u001b[?25h  Preparing metadata (setup.py) ... \u001b[?25l\u001b[?25hdone\n",
            "Requirement already satisfied: numpy in /usr/local/lib/python3.8/dist-packages (from face-recognition) (1.21.6)\n",
            "Requirement already satisfied: Click>=6.0 in /usr/local/lib/python3.8/dist-packages (from face-recognition) (7.1.2)\n",
            "Building wheels for collected packages: face-recognition-models\n",
            "  Building wheel for face-recognition-models (setup.py) ... \u001b[?25l\u001b[?25hdone\n",
            "  Created wheel for face-recognition-models: filename=face_recognition_models-0.3.0-py2.py3-none-any.whl size=100566185 sha256=88b27986f5c822593c52896a68c44635c6201993dd439fbda9bc5320df9b8462\n",
            "  Stored in directory: /root/.cache/pip/wheels/b4/4b/8f/751e99d45f089bdf366a7d3e5066db3c2b84a62e4377f534d7\n",
            "Successfully built face-recognition-models\n",
            "Installing collected packages: face-recognition-models, face-recognition\n",
            "Successfully installed face-recognition-1.3.0 face-recognition-models-0.3.0\n"
          ]
        }
      ]
    },
    {
      "cell_type": "code",
      "source": [
        "import face_recognition as fr \n",
        "import numpy as np \n",
        "import cv2  \n",
        "import os "
      ],
      "metadata": {
        "id": "C8HiPud1oI4a"
      },
      "execution_count": null,
      "outputs": []
    },
    {
      "cell_type": "code",
      "source": [
        "faces_path = \"F:\\\\Downloads\\\\faces\""
      ],
      "metadata": {
        "id": "pTm-0ekZ2lcD"
      },
      "execution_count": null,
      "outputs": []
    },
    {
      "cell_type": "code",
      "source": [
        "def get_face_encodings():\n",
        "    face_names = os.listdir(faces_path)\n",
        "    face_encodings = []\n",
        "\n",
        "    # For loop to retrieve all face encodings and store them in a list.\n",
        "    # Below loop also gets the names of people and removes \".jpg\", and stores\n",
        "    # the names in a list\n",
        "    for i, name in enumerate(face_names):\n",
        "        face = fr.load_image_file(f\"{faces_path}\\\\{name}\")\n",
        "        face_encodings.append(fr.face_encodings(face)[0])\n",
        "\n",
        "        face_names[i] = name.split(\".\")[0]  # To remove \".jpg\" or any other image extension\n",
        "\n",
        "    return face_encodings, face_names\n",
        "\n",
        "\n",
        "# Retrieving face encodings and storing them in the face_encodings variable, along with the names\n",
        "face_encodings, face_names = get_face_encodings()\n",
        "\n",
        "# Reference to webcam\n",
        "video = cv2.VideoCapture(0)\n",
        "\n",
        "# Setting variable which will be used to scale size of image\n",
        "scl = 3\n",
        "\n",
        "# Continuously capturing webcam footage\n",
        "while True:\n",
        "    success, image = video.read()\n",
        "\n",
        "    # Making current frame smaller so program runs faster\n",
        "    resized_image = cv2.resize(image, (int(image.shape[1] / scl), int(image.shape[0] / scl)))\n",
        "\n",
        "    # Converting current frame to RGB, since that's what the face recognition module uses\n",
        "    rgb_image = cv2.cvtColor(resized_image, cv2.COLOR_BGR2RGB)\n",
        "\n",
        "    # Retrieving face location coordinates and unknown encodings\n",
        "    face_locations = fr.face_locations(rgb_image)\n",
        "    unknown_encodings = fr.face_encodings(rgb_image, face_locations)\n",
        "\n",
        "    # Iterating through each encoding, as well as the face's location\n",
        "    for face_encoding, face_location in zip(unknown_encodings, face_locations):\n",
        "        # Comparing known faces with unknown faces\n",
        "        result = fr.compare_faces(face_encodings, face_encoding, 0.4)\n",
        "\n",
        "        # Getting correct name if a match was found\n",
        "        if True in result:\n",
        "            name = face_names[result.index(True)]\n",
        "\n",
        "            # Setting coordinates for face location\n",
        "            top, right, bottom, left = face_location\n",
        "\n",
        "            # Drawing rectangle around face\n",
        "            cv2.rectangle(image, (left * scl, top * scl), (right * scl, bottom * scl), (0, 0, 255), 2)\n",
        "\n",
        "            # Setting font, as well as displaying text of name\n",
        "            font = cv2.FONT_HERSHEY_DUPLEX\n",
        "            cv2.putText(image, name, (left * scl, bottom * scl + 20), font, 0.8, (255, 255, 255), 1)\n",
        "\n",
        "    # Displaying final image on the screen\n",
        "    cv2.imshow(\"frame\", image)\n",
        "    cv2.waitKey(1)"
      ],
      "metadata": {
        "id": "rsaK7aoH2oEX"
      },
      "execution_count": null,
      "outputs": []
    }
  ]
}